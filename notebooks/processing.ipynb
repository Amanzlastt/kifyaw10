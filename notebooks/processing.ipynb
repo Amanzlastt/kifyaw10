{
 "cells": [
  {
   "cell_type": "code",
   "execution_count": 1,
   "metadata": {},
   "outputs": [],
   "source": [
    "import pandas as pd \n",
    "import numpy as np \n"
   ]
  },
  {
   "cell_type": "code",
   "execution_count": 2,
   "metadata": {},
   "outputs": [],
   "source": [
    "import os \n",
    "import sys\n",
    "\n",
    "sys.path.append(os.path.abspath(os.path.join(os.getcwd(), \"..\", \"scripts\")))"
   ]
  },
  {
   "cell_type": "code",
   "execution_count": 4,
   "metadata": {},
   "outputs": [],
   "source": [
    "from sklearn.preprocessing import OneHotEncoder, StandardScaler\n",
    "from sklearn.impute import KNNImputer\n",
    "from preprocess import PreProcessing "
   ]
  },
  {
   "cell_type": "code",
   "execution_count": 5,
   "metadata": {},
   "outputs": [],
   "source": [
    "processor = PreProcessing()"
   ]
  },
  {
   "cell_type": "code",
   "execution_count": 6,
   "metadata": {},
   "outputs": [],
   "source": [
    "df_enricled = pd.read_csv('C:\\\\Users\\\\Aman\\\\Desktop\\\\kifyaw10\\\\data\\\\usa_eu_russia.csv')"
   ]
  },
  {
   "cell_type": "code",
   "execution_count": 7,
   "metadata": {},
   "outputs": [
    {
     "name": "stdout",
     "output_type": "stream",
     "text": [
      "         Date  Price  US_GDP  US_Inflation  US_Interest_Rate  Russia_GDP  \\\n",
      "0  1987-05-20  18.63     NaN           NaN               NaN         NaN   \n",
      "1  1987-05-21  18.45     NaN           NaN               NaN         NaN   \n",
      "2  1987-05-22  18.55     NaN           NaN               NaN         NaN   \n",
      "3  1987-05-25  18.60     NaN           NaN               NaN         NaN   \n",
      "4  1987-05-26  18.63     NaN           NaN               NaN         NaN   \n",
      "\n",
      "   Russia_Inflation  EU_GDP  EU_Inflation  Saudi_GDP  Saudi_Inflation  \\\n",
      "0               NaN     NaN           NaN        NaN              NaN   \n",
      "1               NaN     NaN           NaN        NaN              NaN   \n",
      "2               NaN     NaN           NaN        NaN              NaN   \n",
      "3               NaN     NaN           NaN        NaN              NaN   \n",
      "4               NaN     NaN           NaN        NaN              NaN   \n",
      "\n",
      "   Canada_GDP  Canada_Inflation  \n",
      "0         NaN               NaN  \n",
      "1         NaN               NaN  \n",
      "2         NaN               NaN  \n",
      "3         NaN               NaN  \n",
      "4         NaN               NaN  \n"
     ]
    }
   ],
   "source": [
    "print(df_enricled.head())\n"
   ]
  },
  {
   "cell_type": "code",
   "execution_count": 22,
   "metadata": {},
   "outputs": [
    {
     "name": "stdout",
     "output_type": "stream",
     "text": [
      "<class 'pandas.core.frame.DataFrame'>\n",
      "RangeIndex: 9011 entries, 0 to 9010\n",
      "Data columns (total 13 columns):\n",
      " #   Column            Non-Null Count  Dtype  \n",
      "---  ------            --------------  -----  \n",
      " 0   Date              9011 non-null   object \n",
      " 1   Price             9011 non-null   float64\n",
      " 2   US_GDP            74 non-null     float64\n",
      " 3   US_Inflation      274 non-null    float64\n",
      " 4   US_Interest_Rate  274 non-null    float64\n",
      " 5   Russia_GDP        0 non-null      float64\n",
      " 6   Russia_Inflation  233 non-null    float64\n",
      " 7   EU_GDP            60 non-null     float64\n",
      " 8   EU_Inflation      207 non-null    float64\n",
      " 9   Saudi_GDP         0 non-null      float64\n",
      " 10  Saudi_Inflation   0 non-null      float64\n",
      " 11  Canada_GDP        0 non-null      float64\n",
      " 12  Canada_Inflation  0 non-null      float64\n",
      "dtypes: float64(12), object(1)\n",
      "memory usage: 915.3+ KB\n"
     ]
    }
   ],
   "source": [
    "df_enricled.info()"
   ]
  },
  {
   "cell_type": "code",
   "execution_count": 6,
   "metadata": {},
   "outputs": [],
   "source": [
    "def impute(df):\n",
    "        df['Date'] = pd.to_datetime(df['Date'])\n",
    "        df = df.dropna(axis = 1, how='all')\n",
    "        df.set_index('Date', inplace = True)\n",
    "        imputer = KNNImputer(n_neighbors=5)\n",
    "        imputed_values = imputer.fit_transform(df)\n",
    "        df_imputed = pd.DataFrame(imputed_values, index=df.index, columns=df.columns)\n",
    "        return df_imputed"
   ]
  },
  {
   "cell_type": "code",
   "execution_count": 9,
   "metadata": {},
   "outputs": [
    {
     "ename": "TypeError",
     "evalue": "PreProcessing.impute() got multiple values for argument 'df'",
     "output_type": "error",
     "traceback": [
      "\u001b[1;31m---------------------------------------------------------------------------\u001b[0m",
      "\u001b[1;31mTypeError\u001b[0m                                 Traceback (most recent call last)",
      "Cell \u001b[1;32mIn[9], line 1\u001b[0m\n\u001b[1;32m----> 1\u001b[0m df_enricled \u001b[38;5;241m=\u001b[39m \u001b[43mprocessor\u001b[49m\u001b[38;5;241;43m.\u001b[39;49m\u001b[43mimpute\u001b[49m\u001b[43m(\u001b[49m\u001b[43mdf\u001b[49m\u001b[38;5;241;43m=\u001b[39;49m\u001b[43mdf_enricled\u001b[49m\u001b[43m)\u001b[49m\n\u001b[0;32m      2\u001b[0m df_enricled\u001b[38;5;241m.\u001b[39minfo()\n",
      "\u001b[1;31mTypeError\u001b[0m: PreProcessing.impute() got multiple values for argument 'df'"
     ]
    }
   ],
   "source": [
    "df_enricled = processor.impute(df=df_enricled)\n",
    "df_enricled.info()"
   ]
  },
  {
   "cell_type": "code",
   "execution_count": 8,
   "metadata": {},
   "outputs": [
    {
     "data": {
      "text/html": [
       "<div>\n",
       "<style scoped>\n",
       "    .dataframe tbody tr th:only-of-type {\n",
       "        vertical-align: middle;\n",
       "    }\n",
       "\n",
       "    .dataframe tbody tr th {\n",
       "        vertical-align: top;\n",
       "    }\n",
       "\n",
       "    .dataframe thead th {\n",
       "        text-align: right;\n",
       "    }\n",
       "</style>\n",
       "<table border=\"1\" class=\"dataframe\">\n",
       "  <thead>\n",
       "    <tr style=\"text-align: right;\">\n",
       "      <th></th>\n",
       "      <th>Price</th>\n",
       "      <th>US_GDP</th>\n",
       "      <th>US_Inflation</th>\n",
       "      <th>US_Interest_Rate</th>\n",
       "      <th>Russia_Inflation</th>\n",
       "      <th>EU_GDP</th>\n",
       "      <th>EU_Inflation</th>\n",
       "    </tr>\n",
       "    <tr>\n",
       "      <th>Date</th>\n",
       "      <th></th>\n",
       "      <th></th>\n",
       "      <th></th>\n",
       "      <th></th>\n",
       "      <th></th>\n",
       "      <th></th>\n",
       "      <th></th>\n",
       "    </tr>\n",
       "  </thead>\n",
       "  <tbody>\n",
       "    <tr>\n",
       "      <th>1987-05-20</th>\n",
       "      <td>18.63</td>\n",
       "      <td>5875.6376</td>\n",
       "      <td>136.1400</td>\n",
       "      <td>5.288</td>\n",
       "      <td>14.574</td>\n",
       "      <td>1945690.32</td>\n",
       "      <td>78.262</td>\n",
       "    </tr>\n",
       "    <tr>\n",
       "      <th>1987-05-21</th>\n",
       "      <td>18.45</td>\n",
       "      <td>6466.0762</td>\n",
       "      <td>153.8404</td>\n",
       "      <td>4.266</td>\n",
       "      <td>13.874</td>\n",
       "      <td>1945690.32</td>\n",
       "      <td>78.434</td>\n",
       "    </tr>\n",
       "    <tr>\n",
       "      <th>1987-05-22</th>\n",
       "      <td>18.55</td>\n",
       "      <td>6602.4916</td>\n",
       "      <td>161.1204</td>\n",
       "      <td>4.300</td>\n",
       "      <td>14.574</td>\n",
       "      <td>1945690.32</td>\n",
       "      <td>78.434</td>\n",
       "    </tr>\n",
       "    <tr>\n",
       "      <th>1987-05-25</th>\n",
       "      <td>18.60</td>\n",
       "      <td>5875.6376</td>\n",
       "      <td>138.1200</td>\n",
       "      <td>4.762</td>\n",
       "      <td>14.574</td>\n",
       "      <td>1945690.32</td>\n",
       "      <td>78.262</td>\n",
       "    </tr>\n",
       "    <tr>\n",
       "      <th>1987-05-26</th>\n",
       "      <td>18.63</td>\n",
       "      <td>5875.6376</td>\n",
       "      <td>136.1400</td>\n",
       "      <td>5.288</td>\n",
       "      <td>14.574</td>\n",
       "      <td>1945690.32</td>\n",
       "      <td>78.262</td>\n",
       "    </tr>\n",
       "  </tbody>\n",
       "</table>\n",
       "</div>"
      ],
      "text/plain": [
       "            Price     US_GDP  US_Inflation  US_Interest_Rate  \\\n",
       "Date                                                           \n",
       "1987-05-20  18.63  5875.6376      136.1400             5.288   \n",
       "1987-05-21  18.45  6466.0762      153.8404             4.266   \n",
       "1987-05-22  18.55  6602.4916      161.1204             4.300   \n",
       "1987-05-25  18.60  5875.6376      138.1200             4.762   \n",
       "1987-05-26  18.63  5875.6376      136.1400             5.288   \n",
       "\n",
       "            Russia_Inflation      EU_GDP  EU_Inflation  \n",
       "Date                                                    \n",
       "1987-05-20            14.574  1945690.32        78.262  \n",
       "1987-05-21            13.874  1945690.32        78.434  \n",
       "1987-05-22            14.574  1945690.32        78.434  \n",
       "1987-05-25            14.574  1945690.32        78.262  \n",
       "1987-05-26            14.574  1945690.32        78.262  "
      ]
     },
     "execution_count": 8,
     "metadata": {},
     "output_type": "execute_result"
    }
   ],
   "source": [
    "df_enricled.head()"
   ]
  },
  {
   "cell_type": "code",
   "execution_count": 27,
   "metadata": {},
   "outputs": [],
   "source": [
    "def scalle(df):\n",
    "        scaler = StandardScaler()\n",
    "        scaled_values = scaler.fit_transform(df)\n",
    "        df_scalled = pd.DataFrame(scaled_values, index=df.index, columns=df.columns )\n",
    "        return df_scalled"
   ]
  },
  {
   "cell_type": "code",
   "execution_count": null,
   "metadata": {},
   "outputs": [],
   "source": [
    "scalled_df = scalle(df_enricled)"
   ]
  }
 ],
 "metadata": {
  "kernelspec": {
   "display_name": ".venv",
   "language": "python",
   "name": "python3"
  },
  "language_info": {
   "codemirror_mode": {
    "name": "ipython",
    "version": 3
   },
   "file_extension": ".py",
   "mimetype": "text/x-python",
   "name": "python",
   "nbconvert_exporter": "python",
   "pygments_lexer": "ipython3",
   "version": "3.11.9"
  }
 },
 "nbformat": 4,
 "nbformat_minor": 2
}
